{
 "cells": [
  {
   "cell_type": "code",
   "execution_count": null,
   "id": "b353ab92-9bd6-494f-b4b6-d2c8b47fea66",
   "metadata": {},
   "outputs": [],
   "source": []
  }
 ],
 "metadata": {
  "kernelspec": {
   "display_name": "",
   "name": ""
  },
  "language_info": {
   "name": ""
  }
 },
 "nbformat": 4,
 "nbformat_minor": 5
}
